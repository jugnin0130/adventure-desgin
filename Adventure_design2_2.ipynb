{
 "cells": [
  {
   "cell_type": "markdown",
   "id": "bdee6101-cd2d-47fd-a573-c1df1b7866ce",
   "metadata": {},
   "source": [
    "# 어벤디2 2주차 실습 1"
   ]
  },
  {
   "cell_type": "code",
   "execution_count": 1,
   "id": "b187eb4a-de74-4a2d-afc3-9b14cfe11855",
   "metadata": {},
   "outputs": [],
   "source": [
    "import cv2\n",
    "\n",
    "img_color = cv2.imread(\"Desktop/images/cat on laptop.jpg\", cv2.IMREAD_COLOR)\n",
    "\n",
    "if img_color is None:\n",
    "  print(\"not thing this file\")\n",
    "  exit(1)"
   ]
  },
  {
   "cell_type": "code",
   "execution_count": 2,
   "id": "f5baa007-721c-4b5b-9a26-561ef820ca16",
   "metadata": {},
   "outputs": [],
   "source": [
    "cv2.namedWindow('Color')\n",
    "\n",
    "cv2.imshow('Color', img_color)\n",
    "cv2.waitKey(0)\n",
    "cv2.destroyAllWindows()"
   ]
  },
  {
   "cell_type": "markdown",
   "id": "d7530e4b-c77b-4db7-b73d-f1fed2a536f1",
   "metadata": {},
   "source": [
    "# 어벤디2 2주차 실습 2"
   ]
  },
  {
   "cell_type": "code",
   "execution_count": 3,
   "id": "dd6ce851-f337-4bec-9c54-f6dcdd715216",
   "metadata": {},
   "outputs": [],
   "source": [
    "img_gray = cv2.cvtColor(img_color, cv2.COLOR_BGR2GRAY)\n",
    "\n",
    "cv2.imshow(\"Grayscale Image\", img_gray)\n",
    "cv2.waitKey(0)\n",
    "cv2.destroyAllWindows()"
   ]
  },
  {
   "cell_type": "code",
   "execution_count": 4,
   "id": "8963afc8-2bf5-487c-8eeb-d05cbbf19b9e",
   "metadata": {},
   "outputs": [],
   "source": [
    "cv2.imwrite(\"Grayscale.jpg\", img_gray)\n",
    "cv2.waitKey(0)\n",
    "cv2.destroyAllWindows()"
   ]
  },
  {
   "cell_type": "markdown",
   "id": "d0601641-2d10-4428-81be-7dbcd65c08fd",
   "metadata": {},
   "source": [
    "# 어벤디2 2주차 실습 3"
   ]
  },
  {
   "cell_type": "code",
   "execution_count": 6,
   "id": "b1ca087c-fa9d-4a20-b106-acfc210c978c",
   "metadata": {},
   "outputs": [
    {
     "name": "stdout",
     "output_type": "stream",
     "text": [
      "2301633673232 2301633673232\n"
     ]
    }
   ],
   "source": [
    "import cv2 as cv\n",
    "\n",
    "img_gray = cv.imread(\"Desktop/images/cat on laptop.jpg\", cv.IMREAD_GRAYSCALE)\n",
    "\n",
    "img_copy = img_gray\n",
    "\n",
    "print(id(img_gray), id(img_copy))"
   ]
  },
  {
   "cell_type": "code",
   "execution_count": 7,
   "id": "1aae6cce-c270-47f7-81ae-6df51f296c08",
   "metadata": {},
   "outputs": [
    {
     "data": {
      "text/plain": [
       "array([[  0,   0,   0, ...,  50,  43,  42],\n",
       "       [  0,   0,   0, ...,  44,  39,  40],\n",
       "       [  0,   0,   0, ...,  66,  65,  71],\n",
       "       ...,\n",
       "       [ 93,  96,  97, ..., 101, 106, 103],\n",
       "       [ 87,  95,  93, ...,  95,  93,  91],\n",
       "       [103, 108,  95, ...,  53,  60,  66]], dtype=uint8)"
      ]
     },
     "execution_count": 7,
     "metadata": {},
     "output_type": "execute_result"
    }
   ],
   "source": [
    "cv.line(img_gray, (0, 0), (100, 100), 0, 10)"
   ]
  },
  {
   "cell_type": "code",
   "execution_count": 8,
   "id": "8feb922e-a0d6-413b-90c5-cddaaa2d5d31",
   "metadata": {},
   "outputs": [],
   "source": [
    "cv.imshow(\"Grayscale Image\", img_gray)\n",
    "cv.imshow(\"Copied Image\", img_copy)\n",
    "\n",
    "cv.waitKey(0)\n",
    "cv.destroyAllWindows()"
   ]
  },
  {
   "cell_type": "markdown",
   "id": "01d2ecbc-b76a-445b-b54a-4c2e8ca4d767",
   "metadata": {},
   "source": [
    "# 어벤디2 2주차실습 4"
   ]
  },
  {
   "cell_type": "code",
   "execution_count": 9,
   "id": "f0f5aabc-e4da-43bf-9c77-ba8d6a92f535",
   "metadata": {},
   "outputs": [
    {
     "name": "stdout",
     "output_type": "stream",
     "text": [
      "267 400\n"
     ]
    }
   ],
   "source": [
    "import cv2 as cv\n",
    "import numpy as np\n",
    "\n",
    "img_color = cv.imread(\"Desktop/images/apple.png\", cv.IMREAD_COLOR)\n",
    "\n",
    "height, width = img_color.shape[:2]\n",
    "\n",
    "print(height, width)"
   ]
  },
  {
   "cell_type": "code",
   "execution_count": 10,
   "id": "9bf2dc33-ed3d-4725-ba43-09d06af5d3ae",
   "metadata": {},
   "outputs": [
    {
     "name": "stdout",
     "output_type": "stream",
     "text": [
      "[[0 0 0 ... 0 0 0]\n",
      " [0 0 0 ... 0 0 0]\n",
      " [0 0 0 ... 0 0 0]\n",
      " ...\n",
      " [0 0 0 ... 0 0 0]\n",
      " [0 0 0 ... 0 0 0]\n",
      " [0 0 0 ... 0 0 0]]\n"
     ]
    }
   ],
   "source": [
    "img_gray = np.zeros((height, width), np.uint8)\n",
    "print(img_gray)"
   ]
  },
  {
   "cell_type": "code",
   "execution_count": 11,
   "id": "e74db7fb-4c8f-485d-86de-bbf0afece4c8",
   "metadata": {},
   "outputs": [],
   "source": [
    "for y in range(0, height):\n",
    "    for x in range(0, width):\n",
    "        b = img_color.item(y, x, 0)\n",
    "        g = img_color.item(y, x, 1)\n",
    "        r = img_color.item(y, x, 2)\n",
    "\n",
    "        gray = int(r*0.2126 + g*0.7152 + b*0.0722)\n",
    "\n",
    "        img_gray.itemset((y, x), gray)\n",
    "\n",
    "img_result = cv.cvtColor(img_gray, cv.COLOR_GRAY2BGR)"
   ]
  },
  {
   "cell_type": "code",
   "execution_count": 12,
   "id": "c2b3ff23-d833-438f-916c-fb2d4eb5282d",
   "metadata": {},
   "outputs": [],
   "source": [
    "for y in range(150, 201):\n",
    "    for x in range(200, 251):\n",
    "        img_result.itemset((y, x, 0), 0)\n",
    "        img_result.itemset((y, x, 1), 255)\n",
    "        img_result.itemset((y, x, 2), 0)\n",
    "\n",
    "cv.imshow(\"color Image\", img_color)\n",
    "cv.imshow(\"result Image\", img_result)\n",
    "\n",
    "cv.waitKey(0)\n",
    "cv.destroyAllWindows()\n"
   ]
  },
  {
   "cell_type": "markdown",
   "id": "36d76572-f5f3-4424-9d4e-2bcd27dd4d2e",
   "metadata": {},
   "source": [
    "# 어벤디2 2주차 실습 5"
   ]
  },
  {
   "cell_type": "code",
   "execution_count": 2,
   "id": "8c530a6d-efa8-4ca2-aa08-fd9ed437ce20",
   "metadata": {},
   "outputs": [],
   "source": [
    "import cv2 as cv\n",
    "\n",
    "cap = cv.VideoCapture(0)\n",
    "\n",
    "if cap.isOpened() == False:\n",
    "    print(\"not thing this file\")\n",
    "    exit(1)"
   ]
  },
  {
   "cell_type": "code",
   "execution_count": 4,
   "id": "427e23df-24dd-4eb6-94f7-58cc60224630",
   "metadata": {},
   "outputs": [
    {
     "name": "stdout",
     "output_type": "stream",
     "text": [
      "false\n"
     ]
    }
   ],
   "source": [
    "while(True):\n",
    "    ret, img_frame = cap.read()\n",
    "\n",
    "    if ret == False:\n",
    "        print(\"false\")\n",
    "        break\n",
    "\n",
    "    cv.imshow('Color', img_frame)\n",
    "\n",
    "    key = cv.waitKey(1)\n",
    "\n",
    "    if key == ord('q'):\n",
    "        break\n",
    "\n",
    "cap.release()\n",
    "\n",
    "cv.destroyAllWindows()"
   ]
  },
  {
   "cell_type": "markdown",
   "id": "723c92f8-403e-4f6a-a063-062401268d6e",
   "metadata": {},
   "source": [
    "# 어벤디2 2주차 실습6"
   ]
  },
  {
   "cell_type": "code",
   "execution_count": 17,
   "id": "15f66504-5f1d-4c64-a182-0163babe0a59",
   "metadata": {},
   "outputs": [],
   "source": [
    "import cv2 as cv\n",
    "\n",
    "cap = cv.VideoCapture(0)\n",
    "\n",
    "if cap.isOpened() == False:\n",
    "    print(\"not thing this file\")\n",
    "    exit(1)\n",
    "\n",
    "ret, img_frame = cap.read()\n",
    "\n",
    "if ret == False:\n",
    "        print(\"false\")\n",
    "        exit(1)\n",
    "\n",
    "h,w = img_frame.shape[:2]"
   ]
  },
  {
   "cell_type": "code",
   "execution_count": 18,
   "id": "fdcd3475-7b6d-4859-8deb-40c7f90c014e",
   "metadata": {},
   "outputs": [],
   "source": [
    "codec = cv.VideoWriter_fourcc('M','J','P','G')\n",
    "\n",
    "fps = 30.0\n",
    "\n",
    "writer = cv.VideoWriter('output.avi', codec, fps, (w,h))\n",
    "\n",
    "if writer.isOpened() == False:\n",
    "    print(\"false\")\n",
    "    exit(1)"
   ]
  },
  {
   "cell_type": "code",
   "execution_count": 19,
   "id": "a55261e5-e56a-400d-9355-91d6e8763154",
   "metadata": {},
   "outputs": [],
   "source": [
    "while(True):\n",
    "    ret, img_frame = cap.read()\n",
    "\n",
    "    if ret == False:\n",
    "        print(\"false\")\n",
    "        break\n",
    "\n",
    "    writer.write(img_frame)\n",
    "    \n",
    "    cv.imshow('Color', img_frame)\n",
    "\n",
    "    key = cv.waitKey(1)\n",
    "\n",
    "    if key == ord('q'):\n",
    "        break\n",
    "\n",
    "cap.release()\n",
    "\n",
    "writer.release()\n",
    "\n",
    "cv.destroyAllWindows()"
   ]
  },
  {
   "cell_type": "code",
   "execution_count": 20,
   "id": "64980495-9af9-44a7-b427-288f6df36768",
   "metadata": {},
   "outputs": [
    {
     "name": "stdout",
     "output_type": "stream",
     "text": [
      "false\n"
     ]
    }
   ],
   "source": [
    "cap = cv.VideoCapture('output.avi')\n",
    "\n",
    "if cap.isOpened() == False:\n",
    "    print(\"false\")\n",
    "    exit(1)\n",
    "\n",
    "while(True):\n",
    "    ret, img_frame = cap.read()\n",
    "\n",
    "    if ret == False:\n",
    "        print(\"false\")\n",
    "        break\n",
    "\n",
    "    cv.imshow('Color', img_frame)\n",
    "\n",
    "    key = cv.waitKey(25)\n",
    "\n",
    "    if key == ord('q'):\n",
    "        break\n",
    "\n",
    "cap.release()\n",
    "\n",
    "cv.destroyAllWindows()"
   ]
  }
 ],
 "metadata": {
  "kernelspec": {
   "display_name": "Python 3 (ipykernel)",
   "language": "python",
   "name": "python3"
  },
  "language_info": {
   "codemirror_mode": {
    "name": "ipython",
    "version": 3
   },
   "file_extension": ".py",
   "mimetype": "text/x-python",
   "name": "python",
   "nbconvert_exporter": "python",
   "pygments_lexer": "ipython3",
   "version": "3.12.7"
  }
 },
 "nbformat": 4,
 "nbformat_minor": 5
}
