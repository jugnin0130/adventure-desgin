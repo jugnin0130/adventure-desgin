{
 "cells": [
  {
   "cell_type": "code",
   "execution_count": 1,
   "id": "b5f8af05-2e64-4b39-958f-3b996c6a03cf",
   "metadata": {},
   "outputs": [],
   "source": [
    "import cv2"
   ]
  },
  {
   "cell_type": "code",
   "execution_count": 2,
   "id": "721002c1-03a2-4030-a9f8-30b9ae4de9cd",
   "metadata": {},
   "outputs": [],
   "source": [
    "img_color = cv2.imread(\"images/apple.png\", cv2.IMREAD_COLOR)\n",
    "\n",
    "\n",
    "if img_color is None:\n",
    "    print(\"cant serve image\")\n",
    "    exit(1)"
   ]
  },
  {
   "cell_type": "code",
   "execution_count": null,
   "id": "8be05bc4-6521-4a61-9bb8-3459f9b9e3c7",
   "metadata": {},
   "outputs": [],
   "source": [
    "cv2.namedWindow('Color')\n",
    "cv2.imshow('Color', img_color)\n",
    "cv2.waitKey(0)\n",
    "cv2.destroyAllWindows()"
   ]
  },
  {
   "cell_type": "code",
   "execution_count": null,
   "id": "0c15c485-44bc-477f-8a21-317795db6050",
   "metadata": {},
   "outputs": [],
   "source": []
  }
 ],
 "metadata": {
  "kernelspec": {
   "display_name": "Python 3 (ipykernel)",
   "language": "python",
   "name": "python3"
  },
  "language_info": {
   "codemirror_mode": {
    "name": "ipython",
    "version": 3
   },
   "file_extension": ".py",
   "mimetype": "text/x-python",
   "name": "python",
   "nbconvert_exporter": "python",
   "pygments_lexer": "ipython3",
   "version": "3.12.3"
  }
 },
 "nbformat": 4,
 "nbformat_minor": 5
}
