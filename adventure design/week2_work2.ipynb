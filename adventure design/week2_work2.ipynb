{
 "cells": [
  {
   "cell_type": "code",
   "execution_count": 2,
   "id": "b5f8af05-2e64-4b39-958f-3b996c6a03cf",
   "metadata": {},
   "outputs": [],
   "source": [
    "import cv2"
   ]
  },
  {
   "cell_type": "code",
   "execution_count": 3,
   "id": "6204ea32-2398-4b97-a056-6d2c4116ac54",
   "metadata": {},
   "outputs": [],
   "source": [
    "img_color = cv2.imread(\"images/apple.png\", cv2.IMREAD_COLOR)\n",
    "\n",
    "\n",
    "if img_color is None:\n",
    "    print(\"cant serve image\")\n",
    "    exit(1)\n",
    "\n",
    "#cv2.namedWindow('Color')\n",
    "#cv2.imshow('Color', img_color)\n",
    "#cv2.waitKey(0)\n",
    "#cv2.destroyAllWindows()"
   ]
  },
  {
   "cell_type": "code",
   "execution_count": 4,
   "id": "bb6e30b6-54c0-46bb-b670-4ce0d6bc55d7",
   "metadata": {},
   "outputs": [],
   "source": [
    "img_gray = cv2.cvtColor(img_color, cv2.COLOR_BGRA2GRAY)"
   ]
  },
  {
   "cell_type": "code",
   "execution_count": null,
   "id": "e065ba3b-39ae-4047-93ec-106ce461c8ae",
   "metadata": {},
   "outputs": [
    {
     "ename": "",
     "evalue": "",
     "output_type": "error",
     "traceback": [
      "\u001b[1;31mThe Kernel crashed while executing code in the current cell or a previous cell. \n",
      "\u001b[1;31mPlease review the code in the cell(s) to identify a possible cause of the failure. \n",
      "\u001b[1;31mClick <a href='https://aka.ms/vscodeJupyterKernelCrash'>here</a> for more info. \n",
      "\u001b[1;31mView Jupyter <a href='command:jupyter.viewOutput'>log</a> for further details."
     ]
    }
   ],
   "source": [
    "cv2.imshow('Grayscale', img_gray)"
   ]
  },
  {
   "cell_type": "code",
   "execution_count": 5,
   "id": "0c15c485-44bc-477f-8a21-317795db6050",
   "metadata": {},
   "outputs": [],
   "source": [
    "#cv2.destroyAllWindows()"
   ]
  },
  {
   "cell_type": "code",
   "execution_count": null,
   "id": "e7cd0bf9-7646-4a09-8d14-46c3609cc30d",
   "metadata": {},
   "outputs": [],
   "source": []
  }
 ],
 "metadata": {
  "kernelspec": {
   "display_name": "Python 3",
   "language": "python",
   "name": "python3"
  },
  "language_info": {
   "codemirror_mode": {
    "name": "ipython",
    "version": 3
   },
   "file_extension": ".py",
   "mimetype": "text/x-python",
   "name": "python",
   "nbconvert_exporter": "python",
   "pygments_lexer": "ipython3",
   "version": "3.12.3"
  }
 },
 "nbformat": 4,
 "nbformat_minor": 5
}
